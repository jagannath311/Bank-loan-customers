{
 "cells": [
  {
   "cell_type": "code",
   "execution_count": null,
   "metadata": {},
   "outputs": [],
   "source": [
    "\n",
    "#here we have used data.csv and test.csv as train and have to predicted files\n",
    "\n",
    "import pandas as pd\n",
    "import seaborn as sb\n",
    "from matplotlib import pyplot as plt\n",
    "%matplotlib inline\n",
    "import pickle\n",
    "from sklearn.metrics import confusion_matrix\n",
    "from sklearn.metrics import roc_curve,roc_auc_score\n",
    "from sklearn.preprocessing import StandardScaler\n",
    "from sklearn.pipeline import make_pipeline\n",
    "from sklearn.model_selection import GridSearchCV\n",
    "from sklearn.model_selection import train_test_split\n",
    "from sklearn.ensemble import RandomForestClassifier,GradientBoostingClassifier\n",
    "from sklearn.linear_model import LinearRegression,LogisticRegression"
   ]
  },
  {
   "cell_type": "code",
   "execution_count": null,
   "metadata": {},
   "outputs": [],
   "source": [
    "#datacleaning\n",
    "\n",
    "df=pd.read_csv(\"data.csv\")"
   ]
  },
  {
   "cell_type": "code",
   "execution_count": null,
   "metadata": {},
   "outputs": [],
   "source": [
    "df.GENDER.fillna('MISSING',inplace=True)\n",
    "df.GENDER.replace('OTHER','MALE',inplace=True)"
   ]
  },
  {
   "cell_type": "code",
   "execution_count": null,
   "metadata": {},
   "outputs": [],
   "source": [
    "#feature engineering\n",
    "\n",
    "df=df.drop('No. of ATM Debit Transactions' ,axis=1)\n",
    "df=df.drop('CUSTOMER_ID',axis=1)\n",
    "df=df.drop(columns=['No. of Mobile Banking Debit Transactions','No. of Cheque Debit Transactions','Amount Withdrawn from ATM','Amount debited by Net Transactions','Amount debited by Cheque Transactions','Amount debited by Mobile Banking Transactions'])\n",
    "df=df.drop('No. of Branch Cash Withdrawal Transactions'  ,axis=1)\n",
    "df=df.drop('No. of Net Debit Transactions'  ,axis=1)\n",
    "df=pd.get_dummies(df,columns=['GENDER','ACCOUNT TYPE','OCCUPATION'])"
   ]
  },
  {
   "cell_type": "code",
   "execution_count": null,
   "metadata": {},
   "outputs": [],
   "source": [
    "#model training\n",
    "\n",
    "y=df.TARGET\n",
    "X=df.drop('TARGET',axis=1)\n",
    "\n",
    "X_train,X_test,y_train,y_test=train_test_split(X,y,test_size=0.2,random_state=1234,stratify=df.TARGET)\n",
    "pipelines={\n",
    "    'l1':make_pipeline(StandardScaler(),LogisticRegression(penalty='l1',random_state=123)),\n",
    "    'l2':make_pipeline(StandardScaler(),LogisticRegression(penalty='l2',random_state=123)),\n",
    "    'rf':make_pipeline(StandardScaler(),RandomForestClassifier(random_state=123)),\n",
    "    'gb':make_pipeline(StandardScaler(),GradientBoostingClassifier(random_state=123))\n",
    "}\n",
    "l1_hyperparameters={'logisticregression__C':[0.001,0.005,0.01,0.05,0.1,0.5,1,5,10,50,100,500,1000],}\n",
    "l2_hyperparameters={'logisticregression__C':[0.001,0.005,0.01,0.05,0.1,0.5,1,5,10,50,100,500,1000],}\n",
    "rf_hyperparameters={\n",
    "    'randomforestclassifier__n_estimators':[100,200],\n",
    "    'randomforestclassifier__max_features':['auto','sqrt',0.33],\n",
    "    'randomforestclassifier__min_samples_leaf':[1,3,5,10]\n",
    "}\n",
    "gb_hyperparameters={\n",
    "    'gradientboostingclassifier__n_estimators':[100,200],\n",
    "    'gradientboostingclassifier__learning_rate':[0.05,0.1,0.2],\n",
    "    'gradientboostingclassifier__max_depth':[1,3,5]\n",
    "    \n",
    "}\n",
    "\n",
    "hyperparameters={'l1':l1_hyperparameters,'l2':l2_hyperparameters,'rf':rf_hyperparameters,'gb':gb_hyperparameters}\n",
    "fitted_models={}\n",
    "\n",
    "for name,pipeline in pipelines.items():\n",
    "    model=GridSearchCV(pipeline,hyperparameters[name],cv=10,n_jobs=-1)\n",
    "    model.fit(X_train,y_train)\n",
    "    fitted_models[name]=model\n",
    "    print(name)\n",
    "for name,model in fitted_models.items():\n",
    "    pred=model.predict_proba(X_test)\n",
    "    pred=[p[1] for p in pred]\n",
    "    \n",
    "    print(name,roc_auc_score(y_test,pred))\n"
   ]
  },
  {
   "cell_type": "code",
   "execution_count": null,
   "metadata": {},
   "outputs": [],
   "source": [
    "#selecting the winner\n",
    "#the model with better score is picked here rf(random forest classifier)\n",
    "\n",
    "\n",
    "#by cleaning the  file to be predicted and predict the values. \n"
   ]
  },
  {
   "cell_type": "code",
   "execution_count": null,
   "metadata": {},
   "outputs": [],
   "source": [
    "df1=pd.read_csv('test.csv')\n",
    "df1.drop_duplicates(inplace=True)\n",
    "df1.GENDER.fillna('MISSING',inplace=True)\n",
    "df1.GENDER.replace('OTHER','MALE',inplace=True)\n",
    "df1=df1.drop('No. of ATM Debit Transactions',axis=1)\n",
    "df1=df1.drop(columns=['No. of Mobile Banking Debit Transactions','No. of Cheque Debit Transactions','Amount Withdrawn from ATM','Amount debited by Net Transactions','Amount debited by Cheque Transactions','Amount debited by Mobile Banking Transactions'])\n",
    "df1=df1.drop('No. of Branch Cash Withdrawal Transactions'  ,axis=1)\n",
    "df1=df1.drop('No. of Net Debit Transactions'  ,axis=1)\n",
    "\n",
    "df1=pd.get_dummies(df1,columns=['GENDER','ACCOUNT TYPE','OCCUPATION'])\n",
    "\n"
   ]
  },
  {
   "cell_type": "code",
   "execution_count": null,
   "metadata": {},
   "outputs": [],
   "source": [
    "y1=df1.TARGET\n",
    "X1=df1.drop('TARGET',axis=1)\n",
    "\n",
    "pred=fitted_models['gb'].predict(X1)\n",
    "\n",
    "count=0\n",
    "for i in range(len(pred)):\n",
    "    if pred[i]==0:\n",
    "        count=count+1\n",
    "print(count)\n",
    "df2=pd.DataFrame(pred)\n",
    "df2.to_csv('target.csv')"
   ]
  }
 ],
 "metadata": {
  "kernelspec": {
   "display_name": "Python 3",
   "language": "python",
   "name": "python3"
  },
  "language_info": {
   "codemirror_mode": {
    "name": "ipython",
    "version": 3
   },
   "file_extension": ".py",
   "mimetype": "text/x-python",
   "name": "python",
   "nbconvert_exporter": "python",
   "pygments_lexer": "ipython3",
   "version": "3.7.3"
  }
 },
 "nbformat": 4,
 "nbformat_minor": 2
}
